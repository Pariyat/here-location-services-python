{
 "cells": [
  {
   "cell_type": "markdown",
   "metadata": {},
   "source": [
    "you will need to install below package\n",
    "\n",
    "`shapely`\n",
    "\n",
    "command: pip install shapely"
   ]
  },
  {
   "cell_type": "code",
   "execution_count": null,
   "metadata": {},
   "outputs": [],
   "source": [
    "import os\n",
    "from here_map_widget import Map, LineString, Polygon, Marker, Group\n",
    "from here_location_services import LS\n",
    "\n",
    "LS_API_KEY = os.environ.get(\"LS_API_KEY\")\n",
    "\n",
    "ls = LS(api_key=LS_API_KEY)\n",
    "\n",
    "result1 = ls.calculate_isoline(\n",
    "    start=[19.1503, 72.8530],\n",
    "    range=\"1800\",\n",
    "    departure=\"2018-07-16T19:00:00\",\n",
    "    range_type=\"time\",\n",
    "    mode=\"fastest;car;traffic:enabled\",\n",
    ")\n",
    "\n",
    "coordinates1 = result1.isoline[0][\"component\"][0][\"shape\"]\n",
    "line_string1 = LineString()\n",
    "\n",
    "for latlon in coordinates1:\n",
    "    x, y = [float(s) for s in latlon.split(\",\")]\n",
    "    line_string1.push_point(lat=x, lng=y)\n",
    "\n",
    "pg1 = Polygon(object=line_string1)\n",
    "\n",
    "first_center = Marker(lat=19.1503, lng=72.8530)\n",
    "\n",
    "result2 = ls.calculate_isoline(\n",
    "    start=[19.1621, 73.0008],\n",
    "    range=\"1800\",\n",
    "    departure=\"2018-07-16T19:00:00\",\n",
    "    range_type=\"time\",\n",
    "    mode=\"fastest;car;traffic:enabled\",\n",
    ")\n",
    "\n",
    "coordinates2 = result2.isoline[0][\"component\"][0][\"shape\"]\n",
    "line_string2 = LineString()\n",
    "\n",
    "for latlon in coordinates2:\n",
    "    x, y = [float(s) for s in latlon.split(\",\")]\n",
    "    line_string2.push_point(lat=x, lng=y)\n",
    "\n",
    "pg2 = Polygon(object=line_string2)\n",
    "\n",
    "second_center = Marker(lat=19.1621, lng=73.0008)\n",
    "\n",
    "m = Map(\n",
    "    api_key=LS_API_KEY,\n",
    "    center=[19.1621, 73.0008],\n",
    "    zoom=9,\n",
    ")"
   ]
  },
  {
   "cell_type": "code",
   "execution_count": null,
   "metadata": {},
   "outputs": [],
   "source": [
    "m.add_object(pg1)\n",
    "m.add_object(first_center)\n",
    "m"
   ]
  },
  {
   "cell_type": "code",
   "execution_count": null,
   "metadata": {},
   "outputs": [],
   "source": [
    "m.add_object(pg2)\n",
    "m.add_object(second_center)"
   ]
  },
  {
   "cell_type": "code",
   "execution_count": null,
   "metadata": {},
   "outputs": [],
   "source": [
    "from shapely.geometry import Polygon\n",
    "import shapely.wkt\n",
    "\n",
    "l1 = []\n",
    "for cord in coordinates1:\n",
    "    l1.append(tuple([float(l) for l in cord.split(\",\")]))\n",
    "\n",
    "l2 = []\n",
    "for cord in coordinates2:\n",
    "    l2.append(tuple([float(l) for l in cord.split(\",\")]))\n",
    "\n",
    "\n",
    "p1 = Polygon(l1)\n",
    "p2 = Polygon(l2)\n",
    "p3 = shapely.wkt.loads(str(p1.intersection(p2)))\n",
    "centroid = p3.centroid\n",
    "center_marker = Marker(lat=centroid.x, lng=centroid.y)\n",
    "m"
   ]
  },
  {
   "cell_type": "code",
   "execution_count": null,
   "metadata": {},
   "outputs": [],
   "source": [
    "search = ls.discover(center=[centroid.x, centroid.y], limit=10, query='restaurant', country_codes=[\"IND\"])"
   ]
  },
  {
   "cell_type": "code",
   "execution_count": null,
   "metadata": {},
   "outputs": [],
   "source": [
    "group = Group(volatility=True)\n",
    "\n",
    "restaurants =[]\n",
    "for restaurant in search.items:\n",
    "    restaurants.append(\n",
    "        Marker(\n",
    "            lat=restaurant[\"position\"][\"lat\"],\n",
    "            lng=restaurant[\"position\"][\"lng\"],\n",
    "            data=restaurant[\"address\"][\"label\"],\n",
    "        )\n",
    "    )\n",
    "group.add_objects(restaurants)\n",
    "m.add_object(group)"
   ]
  }
 ],
 "metadata": {
  "kernelspec": {
   "display_name": "Python 3",
   "language": "python",
   "name": "python3"
  },
  "language_info": {
   "codemirror_mode": {
    "name": "ipython",
    "version": 3
   },
   "file_extension": ".py",
   "mimetype": "text/x-python",
   "name": "python",
   "nbconvert_exporter": "python",
   "pygments_lexer": "ipython3",
   "version": "3.8.5"
  }
 },
 "nbformat": 4,
 "nbformat_minor": 4
}
