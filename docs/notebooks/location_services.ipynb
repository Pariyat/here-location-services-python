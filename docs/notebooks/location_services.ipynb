{
 "cells": [
  {
   "cell_type": "code",
   "execution_count": null,
   "metadata": {},
   "outputs": [],
   "source": [
    "import os\n",
    "\n",
    "from here_location_services import LS\n",
    "from here_map_widget import Map, Marker, GeoJSON"
   ]
  },
  {
   "cell_type": "code",
   "execution_count": null,
   "metadata": {},
   "outputs": [],
   "source": [
    "# Create Location Services object using API KEY.\n",
    "\n",
    "LS_API_KEY = os.environ.get(\"LS_API_KEY\")  # Get API KEY from environment.\n",
    "\n",
    "ls = LS(api_key=LS_API_KEY)"
   ]
  },
  {
   "cell_type": "markdown",
   "metadata": {},
   "source": [
    "## Geocode API\n",
    "[API Details](https://developer.here.com/documentation/geocoding-search-api/dev_guide/topics/endpoint-geocode-brief.html)"
   ]
  },
  {
   "cell_type": "code",
   "execution_count": null,
   "metadata": {},
   "outputs": [],
   "source": [
    "# Geocoding Example\n",
    "\n",
    "address = \"Invalidenstr 116, 10115 Berlin, Germany\"\n",
    "gc_response = ls.geocode(query=address)\n",
    "\n",
    "data = gc_response.to_geojson()\n",
    "geo_layer = GeoJSON(data=data, show_bubble=True)\n",
    "\n",
    "m = Map(api_key=LS_API_KEY, center=[52.53086, 13.38469], zoom=12)\n",
    "m.add_layer(geo_layer)\n",
    "m"
   ]
  },
  {
   "cell_type": "markdown",
   "metadata": {},
   "source": [
    "## Reverse Geocode API\n",
    "[API Details](https://developer.here.com/documentation/geocoding-search-api/dev_guide/topics/endpoint-reverse-geocode-brief.html)"
   ]
  },
  {
   "cell_type": "code",
   "execution_count": null,
   "metadata": {
    "scrolled": true
   },
   "outputs": [],
   "source": [
    "# Reverse geocoding example\n",
    "\n",
    "rev_gc_response = ls.reverse_geocode(lat=52.53086, lng=13.38469)\n",
    "rev_gc_response.items[0][\"address\"][\"label\"]"
   ]
  },
  {
   "cell_type": "markdown",
   "metadata": {},
   "source": [
    "## Isoline Routing\n",
    "[API Details](https://developer.here.com/documentation/routing/dev_guide/topics/request-isoline.html)"
   ]
  },
  {
   "cell_type": "code",
   "execution_count": null,
   "metadata": {},
   "outputs": [],
   "source": [
    "# Isoline routing example\n",
    "\n",
    "iso_response = ls.calculate_isoline(start=[52.53086, 13.38469], range='1800', departure='2018-07-16T19:00:00',\n",
    "                               range_type = 'time', mode='fastest;car;traffic:enabled')\n",
    "\n",
    "data = iso_response.to_geojson()\n",
    "geo_layer = GeoJSON(data=data)\n",
    "\n",
    "iso_marker = Marker(lat=52.53086, lng=13.38469)\n",
    "\n",
    "m = Map(api_key=LS_API_KEY, center=[52.53086, 13.38469], zoom=9)\n",
    "m.add_layer(geo_layer)\n",
    "m.add_object(iso_marker)\n",
    "m\n"
   ]
  },
  {
   "cell_type": "markdown",
   "metadata": {},
   "source": [
    "## Discover API\n",
    "[API Details](https://developer.here.com/documentation/geocoding-search-api/dev_guide/topics/endpoint-discover-brief.html)"
   ]
  },
  {
   "cell_type": "code",
   "execution_count": null,
   "metadata": {},
   "outputs": [],
   "source": [
    "# Discover API example.\n",
    "disc_response = ls.discover(query=\"coffee\", center=[52.53086, 13.38469], radius=1000)\n",
    "\n",
    "data = disc_response.to_geojson()\n",
    "geo_layer = GeoJSON(data=data)\n",
    "\n",
    "m = Map(api_key=LS_API_KEY, center=[52.53086, 13.38469], zoom=15)\n",
    "m.add_layer(geo_layer)\n",
    "m"
   ]
  },
  {
   "cell_type": "markdown",
   "metadata": {},
   "source": [
    "## Browse API\n",
    "[API Details](https://developer.here.com/documentation/geocoding-search-api/dev_guide/topics/endpoint-browse-brief.html)"
   ]
  },
  {
   "cell_type": "code",
   "execution_count": null,
   "metadata": {},
   "outputs": [],
   "source": [
    "# Browse API example.\n",
    "\n",
    "category_restaurants = '100-1000'\n",
    "category_pubs = '200-2000-0011'\n",
    "\n",
    "browse_response = ls.browse(center=[52.53086, 13.38469], bounding_box=[13.08836,52.33812,13.761,52.6755],\n",
    "                            categories=[category_restaurants])\n",
    "\n",
    "data = browse_response.to_geojson()\n",
    "geo_layer = GeoJSON(data=data)\n",
    "\n",
    "m = Map(api_key=LS_API_KEY, center=[52.53086, 13.38469], zoom=15)\n",
    "m.add_layer(geo_layer)\n",
    "\n",
    "m"
   ]
  },
  {
   "cell_type": "markdown",
   "metadata": {},
   "source": [
    "## Lookup API\n",
    "[API Details](https://developer.here.com/documentation/geocoding-search-api/dev_guide/topics/endpoint-lookup-brief.html)"
   ]
  },
  {
   "cell_type": "code",
   "execution_count": null,
   "metadata": {},
   "outputs": [],
   "source": [
    "# Lookup API example.\n",
    "\n",
    "lookup = ls.lookup(location_id=browse_response.items[0]['id'])\n",
    "\n",
    "lookup.response"
   ]
  },
  {
   "cell_type": "code",
   "execution_count": null,
   "metadata": {},
   "outputs": [],
   "source": []
  }
 ],
 "metadata": {
  "kernelspec": {
   "display_name": "Python 3",
   "language": "python",
   "name": "python3"
  },
  "language_info": {
   "codemirror_mode": {
    "name": "ipython",
    "version": 3
   },
   "file_extension": ".py",
   "mimetype": "text/x-python",
   "name": "python",
   "nbconvert_exporter": "python",
   "pygments_lexer": "ipython3",
   "version": "3.8.5"
  }
 },
 "nbformat": 4,
 "nbformat_minor": 4
}
